{
  "nbformat": 4,
  "nbformat_minor": 0,
  "metadata": {
    "colab": {
      "name": "emotion_detection.ipynb",
      "provenance": []
    },
    "kernelspec": {
      "name": "python3",
      "display_name": "Python 3"
    }
  },
  "cells": [
    {
      "cell_type": "code",
      "metadata": {
        "id": "TlerBF_mOrFZ"
      },
      "source": [
        "import numpy as np\r\n",
        "import pandas as pd\r\n",
        "import matplotlib.pyplot as plt\r\n",
        "import seaborn as sns"
      ],
      "execution_count": 1,
      "outputs": []
    },
    {
      "cell_type": "code",
      "metadata": {
        "id": "cL6dxLD2P8ZV"
      },
      "source": [
        "import keras\r\n",
        "from  keras.preprocessing.text import Tokenizer\r\n",
        "from keras.preprocessing.sequence import pad_sequences\r\n",
        "from keras.utils import to_categorical"
      ],
      "execution_count": 2,
      "outputs": []
    },
    {
      "cell_type": "code",
      "metadata": {
        "id": "KfBwb5MtQE_W"
      },
      "source": [
        "df_train= pd.read_csv('train.txt', header =None, sep =';', names = ['Input','Sentiment'], encoding='utf-8')\r\n",
        "df_val= pd.read_csv('val.txt', header =None, sep =';', names = ['Input','Sentiment'], encoding='utf-8')\r\n",
        "df_test= pd.read_csv('test.txt', header =None, sep =';', names = ['Input','Sentiment'], encoding='utf-8')"
      ],
      "execution_count": 3,
      "outputs": []
    },
    {
      "cell_type": "code",
      "metadata": {
        "colab": {
          "base_uri": "https://localhost:8080/",
          "height": 202
        },
        "id": "q8FV2l1uT_Y3",
        "outputId": "66b9009e-8332-4bac-f24b-a2c69eeff39f"
      },
      "source": [
        "df_train.head()"
      ],
      "execution_count": 4,
      "outputs": [
        {
          "output_type": "execute_result",
          "data": {
            "text/html": [
              "<div>\n",
              "<style scoped>\n",
              "    .dataframe tbody tr th:only-of-type {\n",
              "        vertical-align: middle;\n",
              "    }\n",
              "\n",
              "    .dataframe tbody tr th {\n",
              "        vertical-align: top;\n",
              "    }\n",
              "\n",
              "    .dataframe thead th {\n",
              "        text-align: right;\n",
              "    }\n",
              "</style>\n",
              "<table border=\"1\" class=\"dataframe\">\n",
              "  <thead>\n",
              "    <tr style=\"text-align: right;\">\n",
              "      <th></th>\n",
              "      <th>Input</th>\n",
              "      <th>Sentiment</th>\n",
              "    </tr>\n",
              "  </thead>\n",
              "  <tbody>\n",
              "    <tr>\n",
              "      <th>0</th>\n",
              "      <td>i didnt feel humiliated</td>\n",
              "      <td>sadness</td>\n",
              "    </tr>\n",
              "    <tr>\n",
              "      <th>1</th>\n",
              "      <td>i can go from feeling so hopeless to so damned...</td>\n",
              "      <td>sadness</td>\n",
              "    </tr>\n",
              "    <tr>\n",
              "      <th>2</th>\n",
              "      <td>im grabbing a minute to post i feel greedy wrong</td>\n",
              "      <td>anger</td>\n",
              "    </tr>\n",
              "    <tr>\n",
              "      <th>3</th>\n",
              "      <td>i am ever feeling nostalgic about the fireplac...</td>\n",
              "      <td>love</td>\n",
              "    </tr>\n",
              "    <tr>\n",
              "      <th>4</th>\n",
              "      <td>i am feeling grouchy</td>\n",
              "      <td>anger</td>\n",
              "    </tr>\n",
              "  </tbody>\n",
              "</table>\n",
              "</div>"
            ],
            "text/plain": [
              "                                               Input Sentiment\n",
              "0                            i didnt feel humiliated   sadness\n",
              "1  i can go from feeling so hopeless to so damned...   sadness\n",
              "2   im grabbing a minute to post i feel greedy wrong     anger\n",
              "3  i am ever feeling nostalgic about the fireplac...      love\n",
              "4                               i am feeling grouchy     anger"
            ]
          },
          "metadata": {
            "tags": []
          },
          "execution_count": 4
        }
      ]
    },
    {
      "cell_type": "code",
      "metadata": {
        "colab": {
          "base_uri": "https://localhost:8080/"
        },
        "id": "SduwY3b0UaYj",
        "outputId": "b508e75f-7fa4-408e-c207-9e8726d5b3d9"
      },
      "source": [
        "df_train['Sentiment'].value_counts()"
      ],
      "execution_count": 5,
      "outputs": [
        {
          "output_type": "execute_result",
          "data": {
            "text/plain": [
              "joy         5362\n",
              "sadness     4666\n",
              "anger       2159\n",
              "fear        1937\n",
              "love        1304\n",
              "surprise     572\n",
              "Name: Sentiment, dtype: int64"
            ]
          },
          "metadata": {
            "tags": []
          },
          "execution_count": 5
        }
      ]
    },
    {
      "cell_type": "code",
      "metadata": {
        "colab": {
          "base_uri": "https://localhost:8080/",
          "height": 296
        },
        "id": "w5mDo-MEUvZI",
        "outputId": "ac107da1-aac4-4313-b462-87edc1518024"
      },
      "source": [
        "df_train['Sentiment'].value_counts().sort_values().plot.bar()\r\n",
        "plt.show()"
      ],
      "execution_count": 6,
      "outputs": [
        {
          "output_type": "display_data",
          "data": {
            "image/png": "[encoded data removed]",
            "text/plain": [
              "<Figure size 432x288 with 1 Axes>"
            ]
          },
          "metadata": {
            "tags": [],
            "needs_background": "light"
          }
        }
      ]
    },
    {
      "cell_type": "markdown",
      "metadata": {
        "id": "UpKv1U26xF5h"
      },
      "source": [
        "Training Dataset"
      ]
    },
    {
      "cell_type": "code",
      "metadata": {
        "id": "MND2EHENVMGB"
      },
      "source": [
        "x= df_train['Input']"
      ],
      "execution_count": 7,
      "outputs": []
    },
    {
      "cell_type": "code",
      "metadata": {
        "id": "8BE_hcMcVbvT"
      },
      "source": [
        "# calculating the length of each message and making into a dataframe\r\n",
        "lst=[]\r\n",
        "for i in x:\r\n",
        "  lst.append(len(i))"
      ],
      "execution_count": 8,
      "outputs": []
    },
    {
      "cell_type": "code",
      "metadata": {
        "colab": {
          "base_uri": "https://localhost:8080/",
          "height": 294
        },
        "id": "ugJdx_7BV1Ev",
        "outputId": "47b47558-edce-4d58-d324-18c47f97a188"
      },
      "source": [
        "df1= pd.DataFrame(lst)\r\n",
        "df1.describe()"
      ],
      "execution_count": 9,
      "outputs": [
        {
          "output_type": "execute_result",
          "data": {
            "text/html": [
              "<div>\n",
              "<style scoped>\n",
              "    .dataframe tbody tr th:only-of-type {\n",
              "        vertical-align: middle;\n",
              "    }\n",
              "\n",
              "    .dataframe tbody tr th {\n",
              "        vertical-align: top;\n",
              "    }\n",
              "\n",
              "    .dataframe thead th {\n",
              "        text-align: right;\n",
              "    }\n",
              "</style>\n",
              "<table border=\"1\" class=\"dataframe\">\n",
              "  <thead>\n",
              "    <tr style=\"text-align: right;\">\n",
              "      <th></th>\n",
              "      <th>0</th>\n",
              "    </tr>\n",
              "  </thead>\n",
              "  <tbody>\n",
              "    <tr>\n",
              "      <th>count</th>\n",
              "      <td>16000.000000</td>\n",
              "    </tr>\n",
              "    <tr>\n",
              "      <th>mean</th>\n",
              "      <td>96.845812</td>\n",
              "    </tr>\n",
              "    <tr>\n",
              "      <th>std</th>\n",
              "      <td>55.904953</td>\n",
              "    </tr>\n",
              "    <tr>\n",
              "      <th>min</th>\n",
              "      <td>7.000000</td>\n",
              "    </tr>\n",
              "    <tr>\n",
              "      <th>25%</th>\n",
              "      <td>53.000000</td>\n",
              "    </tr>\n",
              "    <tr>\n",
              "      <th>50%</th>\n",
              "      <td>86.000000</td>\n",
              "    </tr>\n",
              "    <tr>\n",
              "      <th>75%</th>\n",
              "      <td>129.000000</td>\n",
              "    </tr>\n",
              "    <tr>\n",
              "      <th>max</th>\n",
              "      <td>300.000000</td>\n",
              "    </tr>\n",
              "  </tbody>\n",
              "</table>\n",
              "</div>"
            ],
            "text/plain": [
              "                  0\n",
              "count  16000.000000\n",
              "mean      96.845812\n",
              "std       55.904953\n",
              "min        7.000000\n",
              "25%       53.000000\n",
              "50%       86.000000\n",
              "75%      129.000000\n",
              "max      300.000000"
            ]
          },
          "metadata": {
            "tags": []
          },
          "execution_count": 9
        }
      ]
    },
    {
      "cell_type": "code",
      "metadata": {
        "id": "B11hFru9ZNvB"
      },
      "source": [
        "cts=[]\r\n",
        "for i in range(7,301):\r\n",
        "   ct=0\r\n",
        "   for k in lst:\r\n",
        "     if k==i:\r\n",
        "       ct+=1\r\n",
        "   cts.append(ct)"
      ],
      "execution_count": 10,
      "outputs": []
    },
    {
      "cell_type": "code",
      "metadata": {
        "colab": {
          "base_uri": "https://localhost:8080/",
          "height": 266
        },
        "id": "PJx45P0Samiv",
        "outputId": "4147a676-3e8d-4117-f94b-076f134d62ae"
      },
      "source": [
        "plt.bar(range(7, 301), cts)\r\n",
        "plt.show()"
      ],
      "execution_count": 11,
      "outputs": [
        {
          "output_type": "display_data",
          "data": {
            "image/png": "[encoded data removed]",
            "text/plain": [
              "<Figure size 432x288 with 1 Axes>"
            ]
          },
          "metadata": {
            "tags": [],
            "needs_background": "light"
          }
        }
      ]
    },
    {
      "cell_type": "code",
      "metadata": {
        "id": "YBLYyfDLa7Qv"
      },
      "source": [
        "# Tokenising training data set\r\n",
        "tokenizer= Tokenizer(1512, lower=True, oov_token='UNK')\r\n",
        "tokenizer.fit_on_texts(x)"
      ],
      "execution_count": 12,
      "outputs": []
    },
    {
      "cell_type": "code",
      "metadata": {
        "id": "WOiTRLbwdx40"
      },
      "source": [
        "# Convert text to sequences using keras\r\n",
        "x_train= tokenizer.texts_to_sequences(x)"
      ],
      "execution_count": 13,
      "outputs": []
    },
    {
      "cell_type": "code",
      "metadata": {
        "id": "z4u6KWc2eAqS"
      },
      "source": [
        "# Pad sequences to get uniform length\r\n",
        "x_train_pad= pad_sequences(x_train, maxlen=80, padding='post')"
      ],
      "execution_count": 14,
      "outputs": []
    },
    {
      "cell_type": "code",
      "metadata": {
        "id": "8fWU46FceakV"
      },
      "source": [
        "# Replace the sentiments with numbers in JSON format\r\n",
        "df_train['Sentiment']= df_train.Sentiment.replace({'joy':0,'anger':1,'love':2,'sadness':3,'fear':4,'surprise':5})"
      ],
      "execution_count": 15,
      "outputs": []
    },
    {
      "cell_type": "code",
      "metadata": {
        "id": "IlHvY4DDfAJn"
      },
      "source": [
        "y_train= df_train['Sentiment'].values"
      ],
      "execution_count": 16,
      "outputs": []
    },
    {
      "cell_type": "code",
      "metadata": {
        "id": "iL0AAwE-fgbR"
      },
      "source": [
        "# Convert to binary matrix\r\n",
        "\r\n",
        "y_train_f= to_categorical(y_train)"
      ],
      "execution_count": 17,
      "outputs": []
    },
    {
      "cell_type": "code",
      "metadata": {
        "colab": {
          "base_uri": "https://localhost:8080/"
        },
        "id": "CRNpwjDif2xJ",
        "outputId": "3bdbf5c3-5bee-4fbf-87c9-5a4bfcf541d6"
      },
      "source": [
        "# Printing first four rows of matrix\r\n",
        "y_train_f[:4]"
      ],
      "execution_count": 18,
      "outputs": [
        {
          "output_type": "execute_result",
          "data": {
            "text/plain": [
              "array([[0., 0., 0., 1., 0., 0.],\n",
              "       [0., 0., 0., 1., 0., 0.],\n",
              "       [0., 1., 0., 0., 0., 0.],\n",
              "       [0., 0., 1., 0., 0., 0.]], dtype=float32)"
            ]
          },
          "metadata": {
            "tags": []
          },
          "execution_count": 18
        }
      ]
    },
    {
      "cell_type": "markdown",
      "metadata": {
        "id": "yGED6RSBxAJS"
      },
      "source": [
        "Validation dataset\r\n"
      ]
    },
    {
      "cell_type": "code",
      "metadata": {
        "id": "SxWby_YQxQUI"
      },
      "source": [
        "# Perform same steps as training data set\r\n",
        "x_val= df_val['Input']"
      ],
      "execution_count": 19,
      "outputs": []
    },
    {
      "cell_type": "code",
      "metadata": {
        "id": "mDSI9pRgxbXE"
      },
      "source": [
        "y_val= df_val.Sentiment.replace({'joy':0,'anger':1,'love':2,'sadness':3,'fear':4,'surprise':5})"
      ],
      "execution_count": 20,
      "outputs": []
    },
    {
      "cell_type": "code",
      "metadata": {
        "id": "mroSkO873Inb"
      },
      "source": [
        "x_val_f= tokenizer.texts_to_sequences(x_val)"
      ],
      "execution_count": 21,
      "outputs": []
    },
    {
      "cell_type": "code",
      "metadata": {
        "id": "fiJhJorf3gW1"
      },
      "source": [
        "x_val_pad= pad_sequences(x_val_f, maxlen=80, padding='post')"
      ],
      "execution_count": 22,
      "outputs": []
    },
    {
      "cell_type": "code",
      "metadata": {
        "id": "YN_zvxCE3uqn"
      },
      "source": [
        "y_val_f= to_categorical(y_val)"
      ],
      "execution_count": 23,
      "outputs": []
    },
    {
      "cell_type": "markdown",
      "metadata": {
        "id": "8LhEBTsR342E"
      },
      "source": [
        "Training the model using LSTM"
      ]
    },
    {
      "cell_type": "code",
      "metadata": {
        "id": "tmB2iHurgIzt"
      },
      "source": [
        "from keras.models import Sequential\r\n",
        "from keras.layers import LSTM,Bidirectional,Dense,Embedding,Dropout"
      ],
      "execution_count": 24,
      "outputs": []
    },
    {
      "cell_type": "code",
      "metadata": {
        "colab": {
          "base_uri": "https://localhost:8080/"
        },
        "id": "R1oadhtKgL4X",
        "outputId": "94f7a5cc-281e-4bcd-8177-4be2952133bb"
      },
      "source": [
        "# Instantiating the keras model to be Sequential\r\n",
        "model= Sequential()\r\n",
        "\r\n",
        "# Adding first hidden layer\r\n",
        "model.add(Embedding(15212, 64, input_length=80))\r\n",
        "\r\n",
        "# Dropout technique to prevent overfitting\r\n",
        "model.add(Dropout(0.6))\r\n",
        "\r\n",
        "# Creating LSTM layer\r\n",
        "model.add(Bidirectional(LSTM(80, return_sequences= True)))\r\n",
        "\r\n",
        "model.add(Bidirectional(LSTM(160)))\r\n",
        "\r\n",
        "# Adding final hidden layer\r\n",
        "model.add(Dense(6, activation='softmax'))\r\n",
        "\r\n",
        "# Printing model summary\r\n",
        "print(model.summary())"
      ],
      "execution_count": 25,
      "outputs": [
        {
          "output_type": "stream",
          "text": [
            "Model: \"sequential\"\n",
            "_________________________________________________________________\n",
            "Layer (type)                 Output Shape              Param #   \n",
            "=================================================================\n",
            "embedding (Embedding)        (None, 80, 64)            973568    \n",
            "_________________________________________________________________\n",
            "dropout (Dropout)            (None, 80, 64)            0         \n",
            "_________________________________________________________________\n",
            "bidirectional (Bidirectional (None, 80, 160)           92800     \n",
            "_________________________________________________________________\n",
            "bidirectional_1 (Bidirection (None, 320)               410880    \n",
            "_________________________________________________________________\n",
            "dense (Dense)                (None, 6)                 1926      \n",
            "=================================================================\n",
            "Total params: 1,479,174\n",
            "Trainable params: 1,479,174\n",
            "Non-trainable params: 0\n",
            "_________________________________________________________________\n",
            "None\n"
          ],
          "name": "stdout"
        }
      ]
    },
    {
      "cell_type": "code",
      "metadata": {
        "id": "61_orV7p9ps1"
      },
      "source": [
        "# Compiling model\r\n",
        "model.compile(optimizer='adam', loss='categorical_crossentropy', metrics=['accuracy'])"
      ],
      "execution_count": 26,
      "outputs": []
    },
    {
      "cell_type": "code",
      "metadata": {
        "colab": {
          "base_uri": "https://localhost:8080/"
        },
        "id": "v8Un9msT99tI",
        "outputId": "55ce32a5-6669-4d80-9d0f-c8198705b5a0"
      },
      "source": [
        "# Building and training the model\r\n",
        "hist= model.fit(x_train_pad, y_train_f, epochs=12, validation_data=(x_val_pad, y_val_f))"
      ],
      "execution_count": 27,
      "outputs": [
        {
          "output_type": "stream",
          "text": [
            "Epoch 1/12\n",
            "500/500 [==============================] - 219s 427ms/step - loss: 1.4783 - accuracy: 0.4017 - val_loss: 0.6266 - val_accuracy: 0.7930\n",
            "Epoch 2/12\n",
            "500/500 [==============================] - 211s 423ms/step - loss: 0.5611 - accuracy: 0.8102 - val_loss: 0.3880 - val_accuracy: 0.8710\n",
            "Epoch 3/12\n",
            "500/500 [==============================] - 210s 420ms/step - loss: 0.3658 - accuracy: 0.8766 - val_loss: 0.2941 - val_accuracy: 0.8950\n",
            "Epoch 4/12\n",
            "500/500 [==============================] - 211s 422ms/step - loss: 0.2840 - accuracy: 0.8969 - val_loss: 0.2631 - val_accuracy: 0.8935\n",
            "Epoch 5/12\n",
            "500/500 [==============================] - 210s 420ms/step - loss: 0.2389 - accuracy: 0.9084 - val_loss: 0.2361 - val_accuracy: 0.9055\n",
            "Epoch 6/12\n",
            "500/500 [==============================] - 211s 421ms/step - loss: 0.2137 - accuracy: 0.9158 - val_loss: 0.2274 - val_accuracy: 0.8960\n",
            "Epoch 7/12\n",
            "500/500 [==============================] - 213s 425ms/step - loss: 0.2001 - accuracy: 0.9205 - val_loss: 0.2130 - val_accuracy: 0.9085\n",
            "Epoch 8/12\n",
            "500/500 [==============================] - 212s 425ms/step - loss: 0.1827 - accuracy: 0.9271 - val_loss: 0.2026 - val_accuracy: 0.9130\n",
            "Epoch 9/12\n",
            "500/500 [==============================] - 212s 425ms/step - loss: 0.1719 - accuracy: 0.9292 - val_loss: 0.2073 - val_accuracy: 0.9110\n",
            "Epoch 10/12\n",
            "500/500 [==============================] - 211s 423ms/step - loss: 0.1683 - accuracy: 0.9271 - val_loss: 0.2124 - val_accuracy: 0.9025\n",
            "Epoch 11/12\n",
            "500/500 [==============================] - 210s 421ms/step - loss: 0.1628 - accuracy: 0.9294 - val_loss: 0.2040 - val_accuracy: 0.9125\n",
            "Epoch 12/12\n",
            "500/500 [==============================] - 210s 420ms/step - loss: 0.1517 - accuracy: 0.9362 - val_loss: 0.2014 - val_accuracy: 0.9175\n"
          ],
          "name": "stdout"
        }
      ]
    },
    {
      "cell_type": "code",
      "metadata": {
        "colab": {
          "base_uri": "https://localhost:8080/",
          "height": 268
        },
        "id": "XWAAkbtaEdcj",
        "outputId": "5c1bf4b5-75ef-4dd8-b66f-bc3c62c131c2"
      },
      "source": [
        "# Plotting accuracy of training vs validation\r\n",
        "plt.plot(hist.history['accuracy'], c='b', label='training data')\r\n",
        "plt.plot(hist.history['val_accuracy'], c='r', label='validation data')\r\n",
        "plt.legend(loc='lower right')\r\n",
        "plt.show()"
      ],
      "execution_count": 29,
      "outputs": [
        {
          "output_type": "display_data",
          "data": {
            "image/png": "[encoded data removed]",
            "text/plain": [
              "<Figure size 432x288 with 1 Axes>"
            ]
          },
          "metadata": {
            "tags": [],
            "needs_background": "light"
          }
        }
      ]
    },
    {
      "cell_type": "code",
      "metadata": {
        "colab": {
          "base_uri": "https://localhost:8080/",
          "height": 265
        },
        "id": "8e2gLL3RSJxg",
        "outputId": "0e420007-19a0-4ed8-aa02-93d6fa96ce32"
      },
      "source": [
        "# Plotting loss of training vs validation\r\n",
        "plt.plot(hist.history['loss'], c='b', label='training data')\r\n",
        "plt.plot(hist.history['val_loss'], c='r', label='validation data')\r\n",
        "plt.legend(loc='upper right')\r\n",
        "plt.show()"
      ],
      "execution_count": 31,
      "outputs": [
        {
          "output_type": "display_data",
          "data": {
            "image/png": "[encoded data removed]",
            "text/plain": [
              "<Figure size 432x288 with 1 Axes>"
            ]
          },
          "metadata": {
            "tags": [],
            "needs_background": "light"
          }
        }
      ]
    },
    {
      "cell_type": "markdown",
      "metadata": {
        "id": "QauoylDbTJR7"
      },
      "source": [
        "Test dataset"
      ]
    },
    {
      "cell_type": "code",
      "metadata": {
        "id": "oOEd8O-5Saww"
      },
      "source": [
        "# Same steps as training/ validation dataset \r\n",
        "x_test= df_test['Input']"
      ],
      "execution_count": 32,
      "outputs": []
    },
    {
      "cell_type": "code",
      "metadata": {
        "id": "FjTA9qTMTym_"
      },
      "source": [
        "y_test= df_test.Sentiment.replace({'joy':0,'anger':1,'love':2,'sadness':3,'fear':4,'surprise':5})"
      ],
      "execution_count": 33,
      "outputs": []
    },
    {
      "cell_type": "code",
      "metadata": {
        "id": "7NOughZkT9di"
      },
      "source": [
        "x_test_f= tokenizer.texts_to_sequences(x_test)"
      ],
      "execution_count": 34,
      "outputs": []
    },
    {
      "cell_type": "code",
      "metadata": {
        "id": "S6Ii8Bg7UF36"
      },
      "source": [
        "x_test_pad= pad_sequences(x_test_f, maxlen=80, padding='post')"
      ],
      "execution_count": 35,
      "outputs": []
    },
    {
      "cell_type": "code",
      "metadata": {
        "id": "9f0oIRcmUPRw"
      },
      "source": [
        "y_test_f= to_categorical(y_test)"
      ],
      "execution_count": 36,
      "outputs": []
    },
    {
      "cell_type": "code",
      "metadata": {
        "colab": {
          "base_uri": "https://localhost:8080/"
        },
        "id": "kw_6xr4xVG4I",
        "outputId": "f14752ae-7ab3-460a-bac6-96620f0ee629"
      },
      "source": [
        "# Evaluate model\r\n",
        "model.evaluate(x_test_pad, y_test_f)"
      ],
      "execution_count": 37,
      "outputs": [
        {
          "output_type": "stream",
          "text": [
            "63/63 [==============================] - 8s 127ms/step - loss: 0.1980 - accuracy: 0.9110\n"
          ],
          "name": "stdout"
        },
        {
          "output_type": "execute_result",
          "data": {
            "text/plain": [
              "[0.19800475239753723, 0.9110000133514404]"
            ]
          },
          "metadata": {
            "tags": []
          },
          "execution_count": 37
        }
      ]
    },
    {
      "cell_type": "markdown",
      "metadata": {
        "id": "Kvw15w-UVcC9"
      },
      "source": [
        "**Accuracy on test data is 91.1 %**"
      ]
    },
    {
      "cell_type": "code",
      "metadata": {
        "colab": {
          "base_uri": "https://localhost:8080/"
        },
        "id": "ion0OgsHV2PV",
        "outputId": "a870edf2-49e3-4891-b37b-77143105e6d2"
      },
      "source": [
        "# Predict model for test data\r\n",
        "y_pred= model.predict_classes(x_test_pad)"
      ],
      "execution_count": 38,
      "outputs": [
        {
          "output_type": "stream",
          "text": [
            "/usr/local/lib/python3.6/dist-packages/tensorflow/python/keras/engine/sequential.py:450: UserWarning: `model.predict_classes()` is deprecated and will be removed after 2021-01-01. Please use instead:* `np.argmax(model.predict(x), axis=-1)`,   if your model does multi-class classification   (e.g. if it uses a `softmax` last-layer activation).* `(model.predict(x) > 0.5).astype(\"int32\")`,   if your model does binary classification   (e.g. if it uses a `sigmoid` last-layer activation).\n",
            "  warnings.warn('`model.predict_classes()` is deprecated and '\n"
          ],
          "name": "stderr"
        }
      ]
    },
    {
      "cell_type": "code",
      "metadata": {
        "colab": {
          "base_uri": "https://localhost:8080/"
        },
        "id": "q9KwSYmeWYDd",
        "outputId": "6eca03da-d176-418a-c49e-245c02b18701"
      },
      "source": [
        "# Print precision, recall & f1 score\r\n",
        "from sklearn.metrics import classification_report\r\n",
        "print(classification_report(y_test, y_pred))"
      ],
      "execution_count": 39,
      "outputs": [
        {
          "output_type": "stream",
          "text": [
            "              precision    recall  f1-score   support\n",
            "\n",
            "           0       0.93      0.92      0.93       695\n",
            "           1       0.94      0.86      0.90       275\n",
            "           2       0.76      0.86      0.81       159\n",
            "           3       0.96      0.95      0.96       581\n",
            "           4       0.83      0.94      0.88       224\n",
            "           5       0.85      0.67      0.75        66\n",
            "\n",
            "    accuracy                           0.91      2000\n",
            "   macro avg       0.88      0.87      0.87      2000\n",
            "weighted avg       0.91      0.91      0.91      2000\n",
            "\n"
          ],
          "name": "stdout"
        }
      ]
    }
  ]
}